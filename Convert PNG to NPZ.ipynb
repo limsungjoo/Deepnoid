{
 "cells": [
  {
   "cell_type": "code",
   "execution_count": 4,
   "metadata": {
    "scrolled": true
   },
   "outputs": [
    {
     "name": "stdout",
     "output_type": "stream",
     "text": [
      "Converting images to numpy arrays...\n",
      "Numpy arrays saved in npz/Dataset\n"
     ]
    }
   ],
   "source": [
    "from __future__ import print_function\n",
    "from __future__ import absolute_import\n",
    "from distutils.dir_util import copy_tree\n",
    "\n",
    "import os\n",
    "import sys\n",
    "import glob\n",
    "import json\n",
    "import re\n",
    "import shutil\n",
    "from shutil import copytree, ignore_patterns\n",
    "import numpy as np\n",
    "\n",
    "CONTEXT_LENGTH = 48\n",
    "IMAGE_SIZE = 256\n",
    "BATCH_SIZE = 64\n",
    "EPOCHS = 10\n",
    "STEPS_PER_EPOCH = 72000\n",
    "\n",
    "class Utils:\n",
    "    @staticmethod\n",
    "    def sparsify(label_vector, output_size):\n",
    "        sparse_vector = []\n",
    "\n",
    "        for label in label_vector:\n",
    "            sparse_label = np.zeros(output_size)\n",
    "            sparse_label[label] = 1\n",
    "\n",
    "            sparse_vector.append(sparse_label)\n",
    "\n",
    "        return np.array(sparse_vector)\n",
    "\n",
    "    @staticmethod\n",
    "    def get_preprocessed_img(img_path, image_size):\n",
    "        import cv2\n",
    "        img = cv2.imread(img_path)\n",
    "        img = cv2.resize(img, (image_size, image_size))\n",
    "        img = img.astype('float32')\n",
    "        img /= 255\n",
    "        return img\n",
    "\n",
    "    @staticmethod\n",
    "    def show(image):\n",
    "        import cv2\n",
    "        cv2.namedWindow(\"view\", cv2.WINDOW_AUTOSIZE)\n",
    "        cv2.imshow(\"view\", image)\n",
    "        cv2.waitKey(0)\n",
    "        cv2.destroyWindow(\"view\")\n",
    "\n",
    "print(\"Converting images to numpy arrays...\")\n",
    "input_path = r'AP_data/Dataset'\n",
    "output_path = r'npz/Dataset'\n",
    "\n",
    "for f in os.listdir(input_path):\n",
    "    if f.find(\".png\") != -1:\n",
    "        img = Utils.get_preprocessed_img(\"{}/{}\".format(input_path, f), IMAGE_SIZE)\n",
    "        file_name = f[:f.find(\".png\")]\n",
    "\n",
    "        np.savez_compressed(\"{}/{}\".format(output_path, file_name), features=img)\n",
    "        retrieve = np.load(\"{}/{}.npz\".format(output_path, file_name))[\"features\"]\n",
    "\n",
    "        assert np.array_equal(img, retrieve)\n",
    "\n",
    "        shutil.copyfile(\"{}/{}.png\".format(input_path, file_name), \"{}/{}.png\".format(output_path, file_name))\n",
    "\n",
    "print(\"Numpy arrays saved in {}\".format(output_path))"
   ]
  },
  {
   "cell_type": "code",
   "execution_count": null,
   "metadata": {},
   "outputs": [],
   "source": []
  }
 ],
 "metadata": {
  "kernelspec": {
   "display_name": "Python 3",
   "language": "python",
   "name": "python3"
  },
  "language_info": {
   "codemirror_mode": {
    "name": "ipython",
    "version": 3
   },
   "file_extension": ".py",
   "mimetype": "text/x-python",
   "name": "python",
   "nbconvert_exporter": "python",
   "pygments_lexer": "ipython3",
   "version": "3.7.9"
  }
 },
 "nbformat": 4,
 "nbformat_minor": 4
}
