{
 "cells": [
  {
   "cell_type": "code",
   "execution_count": null,
   "metadata": {},
   "outputs": [],
   "source": [
    "from os.path import join\n",
    "import SimpleITK as sitk\n",
    "import numpy as np\n",
    "import cv2\n",
    "from glob import glob\n",
    "\n",
    "\n",
    "cls_dirs = glob('/data/hira2020/scoliosis/original_dataset/dcms/*.dcm')\n",
    "save_dir = '/data/hira2020/scoliosis/invert_dataset'\n",
    "\n",
    "def window_img(img, center, width):\n",
    "    window_min = center - width // 2\n",
    "    window_max = center + width // 2\n",
    "\n",
    "    img_windowed = img.copy()\n",
    "    img_windowed[img_windowed < window_min] = window_min\n",
    "    img_windowed[img_windowed > window_max] = window_max\n",
    "\n",
    "    return img_windowed\n",
    "\n",
    "\n",
    "for i, cls_dir in enumerate(cls_dirs):\n",
    "\n",
    "\n",
    "            print(cls_dir)\n",
    "            sitk_image = sitk.ReadImage(cls_dir)\n",
    "            numpy_image = sitk.GetArrayFromImage(sitk_image)[0]\n",
    "            # if 'MONOCHROME1' in sitk_image.GetMetaData('0028|0004'):\n",
    "            #     numpy_image = np.invert(numpy_image)\n",
    "\n",
    "            try :\n",
    "                center = int(float(sitk_image.GetMetaData('0028|1050')))\n",
    "                width = int(float(sitk_image.GetMetaData('0028|1051')))\n",
    "            except Exception as e:\n",
    "                print(cls_dir)\n",
    "                center = int(float(sitk_image.GetMetaData('0028|1050').split('\\\\')[0]))\n",
    "                width = int(float(sitk_image.GetMetaData('0028|1051').split('\\\\')[0]))\n",
    "                continue\n",
    "            numpy_image= window_img(numpy_image, center, width)\n",
    "            if 'MONOCHROME1' in sitk_image.GetMetaData('0028|0004'):\n",
    "                numpy_image = np.invert(numpy_image)\n",
    "            print(join(save_dir,cls_dir.split('/')[-1].split('.')[0]+'.png'))\n",
    "            cv2.imwrite(join(save_dir,cls_dir.split('/')[-1].split('.')[0]+'.png'), numpy_image)\n",
    "            print(sitk_image.GetMetaData('0028|0004'))\n",
    "\n",
    "\n",
    "\n",
    "\n",
    "\n"
   ]
  }
 ],
 "metadata": {
  "kernelspec": {
   "display_name": "Python 3",
   "language": "python",
   "name": "python3"
  },
  "language_info": {
   "codemirror_mode": {
    "name": "ipython",
    "version": 3
   },
   "file_extension": ".py",
   "mimetype": "text/x-python",
   "name": "python",
   "nbconvert_exporter": "python",
   "pygments_lexer": "ipython3",
   "version": "3.7.9"
  }
 },
 "nbformat": 4,
 "nbformat_minor": 4
}
