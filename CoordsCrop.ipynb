{
 "cells": [
  {
   "cell_type": "code",
   "execution_count": 173,
   "metadata": {},
   "outputs": [],
   "source": [
    "import cv2\n",
    "import numpy as np\n",
    "import os\n",
    "import matplotlib.pyplot as plt"
   ]
  },
  {
   "cell_type": "code",
   "execution_count": 174,
   "metadata": {},
   "outputs": [],
   "source": [
    "path = 'C:/Users/sungjoo/Desktop/PatientID1868.png'"
   ]
  },
  {
   "cell_type": "code",
   "execution_count": 175,
   "metadata": {},
   "outputs": [
    {
     "data": {
      "text/plain": [
       "<matplotlib.image.AxesImage at 0x1bc3803d130>"
      ]
     },
     "execution_count": 175,
     "metadata": {},
     "output_type": "execute_result"
    },
    {
     "data": {
      "image/png": "[encoded data removed]",
      "text/plain": [
       "<Figure size 432x288 with 1 Axes>"
      ]
     },
     "metadata": {
      "needs_background": "light"
     },
     "output_type": "display_data"
    }
   ],
   "source": [
    "img= cv2.imread(path,0)\n",
    "plt.imshow(img,cmap='gray')"
   ]
  },
  {
   "cell_type": "code",
   "execution_count": 177,
   "metadata": {},
   "outputs": [
    {
     "data": {
      "text/plain": [
       "<matplotlib.image.AxesImage at 0x1bc380db550>"
      ]
     },
     "execution_count": 177,
     "metadata": {},
     "output_type": "execute_result"
    },
    {
     "data": {
      "image/png": "[encoded data removed]",
      "text/plain": [
       "<Figure size 432x288 with 1 Axes>"
      ]
     },
     "metadata": {
      "needs_background": "light"
     },
     "output_type": "display_data"
    }
   ],
   "source": [
    "contours =[]\n",
    "rect=[]\n",
    "contours,_ = cv2.findContours(img.astype(np.uint8),cv2.RETR_EXTERNAL, cv2.CHAIN_APPROX_SIMPLE)\n",
    "img_cntour = np.zeros_like(img, dtype=np.uint8)\n",
    "# rect = [cv2.boundingRect(cnt) for cnt in contours]\n",
    "# print(len(contours))\n",
    "for cnt in contours:\n",
    "    img_cntour=cv2.drawContours(img_cntour, cnt,-1,255,5)\n",
    "plt.imshow(img_cntour,cmap='gray')"
   ]
  },
  {
   "cell_type": "code",
   "execution_count": 83,
   "metadata": {},
   "outputs": [],
   "source": [
    "def rearange_corner_points(corner_points):\n",
    "    order = np.argsort(corner_points, axis=0)\n",
    "\n",
    "    lu_candi_idx = np.intersect1d(order[:, 0][:2], order[:, 1][:3])\n",
    "    rd_candi_idx = np.intersect1d(order[:, 0][2:], order[:, 1][1:])\n",
    "    ld_candi_idx = np.intersect1d(order[:, 0][:2], order[:, 1][1:])\n",
    "    ru_candi_idx = np.intersect1d(order[:, 0][2:], order[:, 1][:3])\n",
    "\n",
    "    lu_candi = np.array([corner_points[idx] for idx in lu_candi_idx])\n",
    "    lu = lu_candi[lu_candi[:, 1].argsort()][0]\n",
    "\n",
    "    rd_candi = np.array([corner_points[idx] for idx in rd_candi_idx])\n",
    "    rd = rd_candi[rd_candi[:, 1].argsort()][-1]\n",
    "\n",
    "    ld_candi = np.array([corner_points[idx] for idx in ld_candi_idx])\n",
    "    ld = ld_candi[ld_candi[:, 1].argsort()][-1]\n",
    "\n",
    "    ru_candi = np.array([corner_points[idx] for idx in ru_candi_idx])\n",
    "    ru = ru_candi[ru_candi[:, 1].argsort()][0]\n",
    "\n",
    "    return [lu, ru, ld, rd]\n",
    "\n",
    "\n",
    "def extract_patch_corner_points(cnts):\n",
    "    temp = []\n",
    "    for candi in cnts[:]:\n",
    "        temp.append(candi)\n",
    "\n",
    "    cnts = temp\n",
    "    box_points = []\n",
    "    for cnt in cnts:\n",
    "        rc = cv2.minAreaRect(cnt)\n",
    "        box = cv2.boxPoints(rc)\n",
    "        box_points.append(box)\n",
    "\n",
    "    return box_points"
   ]
  },
  {
   "cell_type": "code",
   "execution_count": 132,
   "metadata": {},
   "outputs": [],
   "source": [
    "def average(lst):\n",
    "    return sum(lst) / len(lst)\n",
    "\n",
    "def all_points_to_tuple_points(point_list):\n",
    "    tuple_point_list = []\n",
    "    for i in range(int(len(point_list) / 2)):\n",
    "        tuple_point_list.append((point_list[2 * i], point_list[2 * i + 1]))\n",
    "    return tuple_point_list\n"
   ]
  },
  {
   "cell_type": "code",
   "execution_count": 120,
   "metadata": {},
   "outputs": [
    {
     "name": "stdout",
     "output_type": "stream",
     "text": [
      "<class 'list'>\n"
     ]
    }
   ],
   "source": [
    "avg_contours_area = average([cv2.contourArea(cnt) for cnt in contours])\n",
    "contours = [cnt for cnt in contours if (cv2.contourArea(cnt) > avg_contours_area / 2.5) and (cv2.contourArea(cnt) < avg_contours_area * 2.5)]\n",
    "print(type(contours))\n",
    "pms_patch_extract_corners = extract_patch_corner_points(contours)"
   ]
  },
  {
   "cell_type": "code",
   "execution_count": 147,
   "metadata": {},
   "outputs": [
    {
     "name": "stdout",
     "output_type": "stream",
     "text": [
      "8\n"
     ]
    }
   ],
   "source": [
    "arranged_corner_points = [rearange_corner_points(ppec) for ppec in pms_patch_extract_corners]\n",
    "print(len(arranged_corner_points))"
   ]
  },
  {
   "cell_type": "code",
   "execution_count": 181,
   "metadata": {},
   "outputs": [
    {
     "name": "stdout",
     "output_type": "stream",
     "text": [
      "[array([253.4, 382.2], dtype=float32), array([283.1, 372.3], dtype=float32), array([256.69998, 392.10004], dtype=float32), array([286.4, 382.2], dtype=float32)]\n",
      "[array([252.41612, 333.6913 ], dtype=float32), array([284.13422, 328.09402], dtype=float32), array([254.40941, 344.9866 ], dtype=float32), array([286.1275, 339.3893], dtype=float32)]\n",
      "[array([248.50002, 286.50006], dtype=float32), array([280.60004, 275.80005], dtype=float32), array([253.70003, 302.10004], dtype=float32), array([285.80005, 291.40002], dtype=float32)]\n",
      "[array([230.17197, 236.81526], dtype=float32), array([254.97452, 223.2866 ], dtype=float32), array([239.87897, 254.61143], dtype=float32), array([264.68152, 241.08278], dtype=float32)]\n",
      "[array([203.78702, 189.7798 ], dtype=float32), array([224.76175, 176.29604], dtype=float32), array([213.04694, 204.18413], dtype=float32), array([234.02167, 190.70036], dtype=float32)]\n",
      "[array([171.50002, 154.50002], dtype=float32), array([190.00002, 136.00002], dtype=float32), array([183.00002, 166.00002], dtype=float32), array([201.50002, 147.50002], dtype=float32)]\n",
      "[array([136.78902, 126.37862], dtype=float32), array([153.32082 , 103.835266], dtype=float32), array([146.63005, 133.59538], dtype=float32), array([163.16185, 111.05203], dtype=float32)]\n",
      "[array([104.58427, 101.86517], dtype=float32), array([116.60674,  82.62921], dtype=float32), array([112.764046, 106.97754 ], dtype=float32), array([124.78652,  87.74158], dtype=float32)]\n"
     ]
    },
    {
     "name": "stderr",
     "output_type": "stream",
     "text": [
      "<ipython-input-181-48051557cb4c>:5: DeprecationWarning: an integer is required (got type numpy.float32).  Implicit conversion to integers using __int__ is deprecated, and may be removed in a future version of Python.\n",
      "  img_cntour=cv2.line(img_cntour,tuple(cnt[0]),tuple(cnt[1]),(255,0,0),5)\n",
      "<ipython-input-181-48051557cb4c>:6: DeprecationWarning: an integer is required (got type numpy.float32).  Implicit conversion to integers using __int__ is deprecated, and may be removed in a future version of Python.\n",
      "  img_cntour=cv2.line(img_cntour,tuple(cnt[2]),tuple(cnt[3]),(255,0,0),5)\n"
     ]
    },
    {
     "data": {
      "text/plain": [
       "<matplotlib.image.AxesImage at 0x1bc3822d190>"
      ]
     },
     "execution_count": 181,
     "metadata": {},
     "output_type": "execute_result"
    },
    {
     "data": {
      "image/png": "[encoded data removed]",
      "text/plain": [
       "<Figure size 432x288 with 1 Axes>"
      ]
     },
     "metadata": {
      "needs_background": "light"
     },
     "output_type": "display_data"
    }
   ],
   "source": [
    "img_cntour = np.zeros_like(img, dtype=np.uint8)\n",
    "\n",
    "for cnt in arranged_corner_points:\n",
    "    print(cnt)\n",
    "    img_cntour=cv2.line(img_cntour,tuple(cnt[0]),tuple(cnt[1]),(255,0,0),5)\n",
    "    img_cntour=cv2.line(img_cntour,tuple(cnt[2]),tuple(cnt[3]),(255,0,0),5)\n",
    "    \n",
    "plt.imshow(img_cntour,cmap='gray')\n",
    "        \n",
    "    "
   ]
  },
  {
   "cell_type": "code",
   "execution_count": 137,
   "metadata": {},
   "outputs": [],
   "source": []
  },
  {
   "cell_type": "code",
   "execution_count": 140,
   "metadata": {},
   "outputs": [],
   "source": []
  },
  {
   "cell_type": "code",
   "execution_count": 88,
   "metadata": {},
   "outputs": [
    {
     "name": "stdout",
     "output_type": "stream",
     "text": [
      "[234.07547 374.26416]\n"
     ]
    }
   ],
   "source": [
    "print(arranged_corner_points[0][0])"
   ]
  },
  {
   "cell_type": "code",
   "execution_count": 62,
   "metadata": {},
   "outputs": [
    {
     "name": "stdout",
     "output_type": "stream",
     "text": [
      "[(236, 359, 63, 47), (238, 316, 62, 44), (235, 258, 67, 57), (214, 206, 67, 64), (187, 158, 64, 64), (155, 117, 64, 66), (122, 87, 61, 63), (253, 70, 6, 6), (89, 65, 53, 60), (58, 45, 46, 58)]\n"
     ]
    }
   ],
   "source": [
    "print(rect)"
   ]
  },
  {
   "cell_type": "code",
   "execution_count": 66,
   "metadata": {},
   "outputs": [
    {
     "name": "stdout",
     "output_type": "stream",
     "text": [
      "10\n"
     ]
    }
   ],
   "source": [
    "cropped_list=[]\n",
    "for i in range(len(rect)):\n",
    "        for j,(x, y, w, h) in enumerate([rect[i]]):\n",
    "            left, top, right, bottom = x, y, x+w, y+h\n",
    "            cropped = crop(img,(left, top, right, bottom))\n",
    "            cropped_list.append(cropped)\n",
    "print(len(cropped_list))      "
   ]
  },
  {
   "cell_type": "code",
   "execution_count": 65,
   "metadata": {},
   "outputs": [],
   "source": [
    "def crop(image, coords):\n",
    "    # coords should be a tuple with (x1, y1, x2, y2)\n",
    "    \n",
    "    left, top, right, bottom = coords\n",
    "\n",
    "    if isinstance(image, np.ndarray):\n",
    "        return image[top: bottom, left: right]\n",
    "    else:\n",
    "        return image.crop((left, top, right, bottom))"
   ]
  },
  {
   "cell_type": "code",
   "execution_count": 71,
   "metadata": {},
   "outputs": [
    {
     "name": "stdout",
     "output_type": "stream",
     "text": [
      "(47, 63)\n",
      "(44, 62)\n",
      "(57, 67)\n",
      "(64, 67)\n",
      "(64, 64)\n",
      "(66, 64)\n",
      "(63, 61)\n",
      "(60, 53)\n",
      "(58, 46)\n",
      "9\n"
     ]
    }
   ],
   "source": [
    "cropped_min_list=[]\n",
    "for c in cropped_list:\n",
    "    if c.shape[0]>10:\n",
    "        \n",
    "        print(c.shape)\n",
    "        cropped_min_list.append(c)\n",
    "print(len(cropped_min_list))"
   ]
  },
  {
   "cell_type": "code",
   "execution_count": 49,
   "metadata": {},
   "outputs": [
    {
     "name": "stdout",
     "output_type": "stream",
     "text": [
      "46\n"
     ]
    }
   ],
   "source": [
    "print(c.shape[])"
   ]
  },
  {
   "cell_type": "code",
   "execution_count": 81,
   "metadata": {},
   "outputs": [
    {
     "name": "stdout",
     "output_type": "stream",
     "text": [
      "[[[189 118]]\n",
      "\n",
      " [[150  88]]\n",
      "\n",
      " [[180 111]]\n",
      "\n",
      " [[250 195]]\n",
      "\n",
      " [[ 77  46]]\n",
      "\n",
      " [[297 360]]\n",
      "\n",
      " [[288 258]]\n",
      "\n",
      " [[112  65]]\n",
      "\n",
      " [[300 301]]\n",
      "\n",
      " [[217 150]]\n",
      "\n",
      " [[140  86]]\n",
      "\n",
      " [[297 393]]\n",
      "\n",
      " [[299 316]]\n",
      "\n",
      " [[225 159]]\n",
      "\n",
      " [[103  66]]\n",
      "\n",
      " [[258 206]]\n",
      "\n",
      " [[280 246]]\n",
      "\n",
      " [[209 221]]\n",
      "\n",
      " [[187 193]]\n",
      "\n",
      " [[297 350]]\n",
      "\n",
      " [[257  74]]\n",
      "\n",
      " [[ 90 108]]\n",
      "\n",
      " [[ 58  87]]\n",
      "\n",
      " [[122 131]]\n",
      "\n",
      " [[252 404]]\n",
      "\n",
      " [[239 351]]\n",
      "\n",
      " [[180 182]]\n",
      "\n",
      " [[112 123]]\n",
      "\n",
      " [[231 269]]\n",
      "\n",
      " [[163 146]]\n",
      "\n",
      " [[240 356]]\n",
      "\n",
      " [[214 235]]\n",
      "\n",
      " [[108 118]]\n",
      "\n",
      " [[242 313]]\n",
      "\n",
      " [[ 79 102]]\n",
      "\n",
      " [[237 291]]\n",
      "\n",
      " [[155 156]]\n",
      "\n",
      " [[236 378]]\n",
      "\n",
      " [[225 227]]\n",
      "\n",
      " [[166 125]]]\n"
     ]
    }
   ],
   "source": [
    "corners = cv2.goodFeaturesToTrack(img,40,0.01, 4)\n",
    "corners =  np.int0(corners)\n",
    "print(corners)"
   ]
  },
  {
   "cell_type": "code",
   "execution_count": null,
   "metadata": {},
   "outputs": [],
   "source": []
  }
 ],
 "metadata": {
  "kernelspec": {
   "display_name": "Python 3",
   "language": "python",
   "name": "python3"
  },
  "language_info": {
   "codemirror_mode": {
    "name": "ipython",
    "version": 3
   },
   "file_extension": ".py",
   "mimetype": "text/x-python",
   "name": "python",
   "nbconvert_exporter": "python",
   "pygments_lexer": "ipython3",
   "version": "3.8.3"
  }
 },
 "nbformat": 4,
 "nbformat_minor": 4
}
